{
 "cells": [
  {
   "cell_type": "code",
   "execution_count": 1,
   "metadata": {
    "_cell_guid": "b1076dfc-b9ad-4769-8c92-a6c4dae69d19",
    "_uuid": "8f2839f25d086af736a60e9eeb907d3b93b6e0e5"
   },
   "outputs": [],
   "source": [
    "# This Python 3 environment comes with many helpful analytics libraries installed\n",
    "# It is defined by the kaggle/python docker image: https://github.com/kaggle/docker-python\n",
    "# For example, here's several helpful packages to load in \n",
    "\n",
    "import numpy as np # linear algebra\n",
    "import pandas as pd # data processing, CSV file I/O (e.g. pd.read_csv)\n",
    "import math\n",
    "from PIL import Image\n",
    "# Input data files are available in the \"../input/\" directory.\n",
    "# For example, running this (by clicking run or pressing Shift+Enter) will list the files in the input directory\n",
    "\n",
    "import os\n",
    "\n",
    "# Any results you write to the current directory are saved as output."
   ]
  },
  {
   "cell_type": "code",
   "execution_count": 2,
   "metadata": {
    "_cell_guid": "79c7e3d0-c299-4dcb-8224-4455121ee9b0",
    "_uuid": "d629ff2d2480ee46fbb7e2d37f6b5fab8052498a"
   },
   "outputs": [
    {
     "name": "stderr",
     "output_type": "stream",
     "text": [
      "/root/anaconda3/lib/python3.6/site-packages/h5py/__init__.py:36: FutureWarning: Conversion of the second argument of issubdtype from `float` to `np.floating` is deprecated. In future, it will be treated as `np.float64 == np.dtype(float).type`.\n",
      "  from ._conv import register_converters as _register_converters\n",
      "Using TensorFlow backend.\n"
     ]
    }
   ],
   "source": [
    "from keras.layers import Dense,Input,Activation,BatchNormalization,Reshape,Flatten\n",
    "from keras.layers.convolutional import UpSampling2D\n",
    "from keras.layers.convolutional import Conv2D, MaxPooling2D\n",
    "from keras.models import Model,Sequential\n",
    "from keras.optimizers import SGD\n",
    "from keras.datasets import mnist"
   ]
  },
  {
   "cell_type": "code",
   "execution_count": 3,
   "metadata": {
    "_uuid": "9ad1cf174154a997056aeaa47aef85ec620f638c"
   },
   "outputs": [],
   "source": [
    "def generator_model(): #生成器\n",
    "    #The first dense layer takes a vector of 100 dimensions as input and \n",
    "    #it produces 1,024 dimensions with the activation function tanh as the output\n",
    "    model_in = Input((100,))\n",
    "    model = Dense(1024,activation='tanh')(model_in)\n",
    "    \n",
    "    #The next dense layer produces data of 128 x 7 x 7 \n",
    "    #in the output using batch normalization \n",
    "    model = Dense(128*7*7)(model)\n",
    "    model = BatchNormalization()(model)\n",
    "    model = Activation('tanh')(model)\n",
    "    \n",
    "    #produces data of  7 x 7 x 128 (128 channels, 7 width, and 7 height)\n",
    "    model = Reshape((7,7,128))(model)\n",
    "    #produces a repetition of each one into a 2 x 2 square\n",
    "    model = UpSampling2D(size=(2,2))(model)\n",
    "    model = Conv2D(64,kernel_size=(5,5),activation='tanh',padding='same')(model)\n",
    "    \n",
    "    model = UpSampling2D(size=(2,2))(model)\n",
    "    model = Conv2D(1,kernel_size=(5,5),activation='tanh',padding='same')(model)\n",
    "    \n",
    "    model = Model(inputs=model_in,outputs=model)\n",
    "    \n",
    "    return model"
   ]
  },
  {
   "cell_type": "code",
   "execution_count": 4,
   "metadata": {
    "_uuid": "5d16be8c9fbe76d72dc75b5af69d3862e2f410d7"
   },
   "outputs": [],
   "source": [
    "def discriminator_model(): #对抗器\n",
    "    #  MNIST image with the shape (28, 28, 1)\n",
    "    model_in = Input((28,28,1))\n",
    "    \n",
    "    # 64 filters of size 5 x 5 with tanh as the activation function\n",
    "    model = Conv2D(64,kernel_size=(5,5),padding='same',activation='tanh')(model_in)\n",
    "    model = MaxPooling2D(pool_size=(2,2))(model)\n",
    "    model = Conv2D(128,kernel_size=(5,5),activation='tanh')(model)\n",
    "    model = MaxPooling2D(pool_size=(2,2))(model)\n",
    "    model = Flatten()(model)\n",
    "    model = Dense(1024,activation='tanh')(model)\n",
    "    model = Dense(1,activation='sigmoid')(model)\n",
    "    \n",
    "    model = Model(inputs=model_in,outputs=model)\n",
    "    \n",
    "    return model"
   ]
  },
  {
   "cell_type": "code",
   "execution_count": 5,
   "metadata": {
    "_uuid": "af8f3b188ae64e90fc07f2b228280e2f34f14a41"
   },
   "outputs": [],
   "source": [
    "def generator_containing_discriminator(g, d): # 将对抗器与生成器结合到一起，\n",
    "    model = Sequential()\n",
    "    model.add(g)\n",
    "    d.trainable = False # 对抗器的layers为不可训练状态\n",
    "    model.add(d)\n",
    "    return model\n",
    "\n",
    "def combine_images(generated_images): # 将生成的图片结合到一起\n",
    "    num = generated_images.shape[0]\n",
    "    width = int(math.sqrt(num))\n",
    "    height = int(math.ceil(float(num)/width))\n",
    "    shape = generated_images.shape[1:3]\n",
    "    image = np.zeros((height*shape[0], width*shape[1]),\n",
    "                     dtype=generated_images.dtype)\n",
    "    for index, img in enumerate(generated_images):\n",
    "        i = int(index/width)\n",
    "        j = index % width\n",
    "        image[i*shape[0]:(i+1)*shape[0], j*shape[1]:(j+1)*shape[1]] = img[:, :, 0]\n",
    "    return image"
   ]
  },
  {
   "cell_type": "code",
   "execution_count": 8,
   "metadata": {
    "_uuid": "4c215d3cfde127363027b4b5c02bff18f176d20b"
   },
   "outputs": [],
   "source": [
    "def train(BATCH_SIZE = 128):\n",
    "    (X_train, y_train), (X_test, y_test) = mnist.load_data()\n",
    "    X_train = (X_train.astype(np.float32) - 127.5)/127.5\n",
    "    X_train = X_train[:, :, :, None]\n",
    "    X_test = X_test[:, :, :, None]\n",
    "    \n",
    "    d = discriminator_model()\n",
    "    g = generator_model()\n",
    "    \n",
    "    d_on_g = generator_containing_discriminator(g, d)\n",
    "    \n",
    "    d_optim = SGD(lr=0.0005, momentum=0.9, nesterov=True)\n",
    "    g_optim = SGD(lr=0.0005, momentum=0.9, nesterov=True)\n",
    "    \n",
    "    g.compile(loss='binary_crossentropy', optimizer=\"SGD\")\n",
    "    d_on_g.compile(loss='binary_crossentropy', optimizer=g_optim)\n",
    "    \n",
    "    d.trainable = True\n",
    "    d.compile(loss='binary_crossentropy', optimizer=d_optim)\n",
    "    \n",
    "    for epoch in range(100):\n",
    "        print('Epoch is', epoch)\n",
    "        print(\"Number of batches\", int(X_train.shape[0]/BATCH_SIZE))\n",
    "        for index in range(int(X_train.shape[0]/BATCH_SIZE)):\n",
    "            noise = np.random.uniform(-1, 1, size=(BATCH_SIZE, 100))\n",
    "            image_batch = X_train[index*BATCH_SIZE:(index+1)*BATCH_SIZE]\n",
    "            generated_images = g.predict(noise, verbose=0)\n",
    "            if index % 20 == 0:\n",
    "                image = combine_images(generated_images)\n",
    "                image = image*127.5+127.5\n",
    "                Image.fromarray(image.astype(np.uint8)).save(\"outputs/\"+str(epoch)+\"_\"+str(index)+\".png\")\n",
    "            X = np.concatenate((image_batch, generated_images))\n",
    "            y = [1] * BATCH_SIZE + [0] * BATCH_SIZE\n",
    "            d_loss = d.train_on_batch(X, y)\n",
    "#             print(\"batch %d d_loss : %f\" % (index, d_loss))\n",
    "            noise = np.random.uniform(-1, 1, (BATCH_SIZE, 100))\n",
    "            d.trainable = False\n",
    "            g_loss = d_on_g.train_on_batch(noise, [1] * BATCH_SIZE)\n",
    "            d.trainable = True\n",
    "#             print(\"batch %d g_loss : %f\" % (index, g_loss))\n",
    "            if index % 10 == 9:\n",
    "                g.save_weights('generator', True)\n",
    "                d.save_weights('discriminator', True)"
   ]
  },
  {
   "cell_type": "code",
   "execution_count": 10,
   "metadata": {
    "_uuid": "bfb6f920719c1deac2427f9a81bd63964f963d0f"
   },
   "outputs": [
    {
     "name": "stdout",
     "output_type": "stream",
     "text": [
      "Epoch is 0\n",
      "Number of batches 468\n",
      "Epoch is 1\n",
      "Number of batches 468\n",
      "Epoch is 2\n",
      "Number of batches 468\n",
      "Epoch is 3\n",
      "Number of batches 468\n",
      "Epoch is 4\n",
      "Number of batches 468\n",
      "Epoch is 5\n",
      "Number of batches 468\n",
      "Epoch is 6\n",
      "Number of batches 468\n",
      "Epoch is 7\n",
      "Number of batches 468\n",
      "Epoch is 8\n",
      "Number of batches 468\n",
      "Epoch is 9\n",
      "Number of batches 468\n",
      "Epoch is 10\n",
      "Number of batches 468\n",
      "Epoch is 11\n",
      "Number of batches 468\n",
      "Epoch is 12\n",
      "Number of batches 468\n",
      "Epoch is 13\n",
      "Number of batches 468\n",
      "Epoch is 14\n",
      "Number of batches 468\n",
      "Epoch is 15\n",
      "Number of batches 468\n",
      "Epoch is 16\n",
      "Number of batches 468\n",
      "Epoch is 17\n",
      "Number of batches 468\n",
      "Epoch is 18\n",
      "Number of batches 468\n",
      "Epoch is 19\n",
      "Number of batches 468\n",
      "Epoch is 20\n",
      "Number of batches 468\n",
      "Epoch is 21\n",
      "Number of batches 468\n",
      "Epoch is 22\n",
      "Number of batches 468\n",
      "Epoch is 23\n",
      "Number of batches 468\n",
      "Epoch is 24\n",
      "Number of batches 468\n",
      "Epoch is 25\n",
      "Number of batches 468\n",
      "Epoch is 26\n",
      "Number of batches 468\n",
      "Epoch is 27\n",
      "Number of batches 468\n",
      "Epoch is 28\n",
      "Number of batches 468\n",
      "Epoch is 29\n",
      "Number of batches 468\n",
      "Epoch is 30\n",
      "Number of batches 468\n",
      "Epoch is 31\n",
      "Number of batches 468\n",
      "Epoch is 32\n",
      "Number of batches 468\n",
      "Epoch is 33\n",
      "Number of batches 468\n",
      "Epoch is 34\n",
      "Number of batches 468\n",
      "Epoch is 35\n",
      "Number of batches 468\n",
      "Epoch is 36\n",
      "Number of batches 468\n",
      "Epoch is 37\n",
      "Number of batches 468\n",
      "Epoch is 38\n",
      "Number of batches 468\n",
      "Epoch is 39\n",
      "Number of batches 468\n",
      "Epoch is 40\n",
      "Number of batches 468\n",
      "Epoch is 41\n",
      "Number of batches 468\n",
      "Epoch is 42\n",
      "Number of batches 468\n",
      "Epoch is 43\n",
      "Number of batches 468\n",
      "Epoch is 44\n",
      "Number of batches 468\n",
      "Epoch is 45\n",
      "Number of batches 468\n",
      "Epoch is 46\n",
      "Number of batches 468\n",
      "Epoch is 47\n",
      "Number of batches 468\n",
      "Epoch is 48\n",
      "Number of batches 468\n",
      "Epoch is 49\n",
      "Number of batches 468\n",
      "Epoch is 50\n",
      "Number of batches 468\n",
      "Epoch is 51\n",
      "Number of batches 468\n",
      "Epoch is 52\n",
      "Number of batches 468\n",
      "Epoch is 53\n",
      "Number of batches 468\n",
      "Epoch is 54\n",
      "Number of batches 468\n",
      "Epoch is 55\n",
      "Number of batches 468\n",
      "Epoch is 56\n",
      "Number of batches 468\n",
      "Epoch is 57\n",
      "Number of batches 468\n",
      "Epoch is 58\n",
      "Number of batches 468\n",
      "Epoch is 59\n",
      "Number of batches 468\n",
      "Epoch is 60\n",
      "Number of batches 468\n",
      "Epoch is 61\n",
      "Number of batches 468\n",
      "Epoch is 62\n",
      "Number of batches 468\n",
      "Epoch is 63\n",
      "Number of batches 468\n",
      "Epoch is 64\n",
      "Number of batches 468\n",
      "Epoch is 65\n",
      "Number of batches 468\n",
      "Epoch is 66\n",
      "Number of batches 468\n",
      "Epoch is 67\n",
      "Number of batches 468\n",
      "Epoch is 68\n",
      "Number of batches 468\n",
      "Epoch is 69\n",
      "Number of batches 468\n",
      "Epoch is 70\n",
      "Number of batches 468\n",
      "Epoch is 71\n",
      "Number of batches 468\n",
      "Epoch is 72\n",
      "Number of batches 468\n",
      "Epoch is 73\n",
      "Number of batches 468\n",
      "Epoch is 74\n",
      "Number of batches 468\n",
      "Epoch is 75\n",
      "Number of batches 468\n",
      "Epoch is 76\n",
      "Number of batches 468\n",
      "Epoch is 77\n",
      "Number of batches 468\n",
      "Epoch is 78\n",
      "Number of batches 468\n",
      "Epoch is 79\n",
      "Number of batches 468\n",
      "Epoch is 80\n",
      "Number of batches 468\n",
      "Epoch is 81\n",
      "Number of batches 468\n",
      "Epoch is 82\n",
      "Number of batches 468\n",
      "Epoch is 83\n",
      "Number of batches 468\n",
      "Epoch is 84\n",
      "Number of batches 468\n",
      "Epoch is 85\n",
      "Number of batches 468\n",
      "Epoch is 86\n",
      "Number of batches 468\n",
      "Epoch is 87\n",
      "Number of batches 468\n",
      "Epoch is 88\n",
      "Number of batches 468\n",
      "Epoch is 89\n",
      "Number of batches 468\n",
      "Epoch is 90\n",
      "Number of batches 468\n",
      "Epoch is 91\n",
      "Number of batches 468\n",
      "Epoch is 92\n",
      "Number of batches 468\n",
      "Epoch is 93\n",
      "Number of batches 468\n",
      "Epoch is 94\n",
      "Number of batches 468\n",
      "Epoch is 95\n",
      "Number of batches 468\n",
      "Epoch is 96\n",
      "Number of batches 468\n",
      "Epoch is 97\n",
      "Number of batches 468\n",
      "Epoch is 98\n",
      "Number of batches 468\n",
      "Epoch is 99\n",
      "Number of batches 468\n"
     ]
    }
   ],
   "source": [
    "train()"
   ]
  },
  {
   "cell_type": "code",
   "execution_count": 17,
   "metadata": {
    "_uuid": "37764ee7c60cdde290d2242de108a04a7223a4cb"
   },
   "outputs": [],
   "source": [
    "def generate(BATCH_SIZE=128, nice=False):\n",
    "    g = generator_model()\n",
    "    g.compile(loss='binary_crossentropy', optimizer=\"SGD\")\n",
    "    g.load_weights('generator')\n",
    "    if nice:\n",
    "        d = discriminator_model()\n",
    "        d.compile(loss='binary_crossentropy', optimizer=\"SGD\")\n",
    "        d.load_weights('discriminator')\n",
    "        noise = np.random.uniform(-1, 1, (BATCH_SIZE*20, 100))\n",
    "        generated_images = g.predict(noise, verbose=1)\n",
    "        d_pret = d.predict(generated_images, verbose=1)\n",
    "        index = np.arange(0, BATCH_SIZE*20)\n",
    "        index.resize((BATCH_SIZE*20, 1))\n",
    "        pre_with_index = list(np.append(d_pret, index, axis=1))\n",
    "        pre_with_index.sort(key=lambda x: x[0], reverse=True)\n",
    "        nice_images = np.zeros((BATCH_SIZE,) + generated_images.shape[1:3], dtype=np.float32)\n",
    "        nice_images = nice_images[:, :, :, None]\n",
    "        for i in range(BATCH_SIZE):\n",
    "            idx = int(pre_with_index[i][1])\n",
    "            nice_images[i, :, :, 0] = generated_images[idx, :, :, 0]\n",
    "        image = combine_images(nice_images)\n",
    "    else:\n",
    "        noise = np.random.uniform(-1, 1, (BATCH_SIZE, 100))\n",
    "        generated_images = g.predict(noise, verbose=1)\n",
    "        image = combine_images(generated_images)\n",
    "    image = image*127.5+127.5\n",
    "    Image.fromarray(image.astype(np.uint8)).save(\"generated_image.png\")"
   ]
  },
  {
   "cell_type": "code",
   "execution_count": 18,
   "metadata": {
    "_uuid": "6d16f31aa71ea521bcd9e65e5412bfb64bc2b29c"
   },
   "outputs": [
    {
     "name": "stdout",
     "output_type": "stream",
     "text": [
      "2560/2560 [==============================] - 0s 136us/step\n",
      "2560/2560 [==============================] - 0s 102us/step\n"
     ]
    }
   ],
   "source": [
    "generate(nice=True)"
   ]
  },
  {
   "cell_type": "code",
   "execution_count": null,
   "metadata": {
    "_uuid": "d46d4226815a05bd97c4796aa65704df716c87f5",
    "collapsed": true
   },
   "outputs": [],
   "source": [
    "!ls"
   ]
  },
  {
   "cell_type": "code",
   "execution_count": null,
   "metadata": {
    "_uuid": "71501ae3ca78cfa121b451766d8670bbe8495849",
    "collapsed": true
   },
   "outputs": [],
   "source": [
    "from matplotlib import pyplot as plt"
   ]
  },
  {
   "cell_type": "code",
   "execution_count": 19,
   "metadata": {
    "_uuid": "bece12e126ccf337ae28c46eba26910d0ef389f0"
   },
   "outputs": [
    {
     "name": "stdout",
     "output_type": "stream",
     "text": [
      "Populating the interactive namespace from numpy and matplotlib\n"
     ]
    },
    {
     "data": {
      "image/png": "[encoded data removed]",
      "text/plain": [
       "<matplotlib.figure.Figure at 0x7fe2d30ab978>"
      ]
     },
     "metadata": {},
     "output_type": "display_data"
    }
   ],
   "source": [
    "%pylab inline\n",
    "import matplotlib.pyplot as plt\n",
    "import matplotlib.image as mpimg\n",
    "img=mpimg.imread('generated_image.png')\n",
    "imgplot = plt.imshow(img)\n",
    "plt.show()"
   ]
  },
  {
   "cell_type": "code",
   "execution_count": null,
   "metadata": {},
   "outputs": [],
   "source": []
  }
 ],
 "metadata": {
  "kernelspec": {
   "display_name": "Python 3",
   "language": "python",
   "name": "python3"
  },
  "language_info": {
   "codemirror_mode": {
    "name": "ipython",
    "version": 3
   },
   "file_extension": ".py",
   "mimetype": "text/x-python",
   "name": "python",
   "nbconvert_exporter": "python",
   "pygments_lexer": "ipython3",
   "version": "3.6.4"
  }
 },
 "nbformat": 4,
 "nbformat_minor": 1
}
